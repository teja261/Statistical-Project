{
 "cells": [
  {
   "cell_type": "markdown",
   "id": "9fee5b75",
   "metadata": {},
   "source": [
    "## Project Name - Data Visualization Analysis and Statistical Methods for Populations of Possums"
   ]
  },
  {
   "cell_type": "markdown",
   "id": "41890fdd",
   "metadata": {},
   "source": [
    "##  Abstract:\n",
    "With the use of statistical analysis, which is a scientific instrument, enormous volumes of data may be gathered, analyzed, \n",
    "and turned into useful information by spotting common patterns and trends. The idea is to employ a dataset on which different \n",
    "statistical techniques are used in order to make precise predictions. \n",
    "We were able to categorize the data with 95.2% accuracy using the projects accuracy score."
   ]
  },
  {
   "cell_type": "markdown",
   "id": "84f3a893",
   "metadata": {},
   "source": [
    "## Introduction:\n",
    "The goal of this projects introduction is to put into practice the statistical techniques that were used to analyze actual data.\n",
    "Z-test, ANOVA Analysis, Chi Squared Tests of Independence different distributions, categorical analysis of \n",
    "data, and regression models are some examples of this but not all of them.\n",
    "\n",
    "We will make use of the Possum dataset to do this. First, we will use a variety of statistical techniques to track dependencies \n",
    "and correlations between the different data columns. To choose the best features from our data to create a logistic regression \n",
    "model, I will next use the Forward, Backward, and Recursive elimination procedures. On the basis of our test data, we will \n",
    "assess the precision of our logistic regression model."
   ]
  },
  {
   "cell_type": "markdown",
   "id": "ff3aa2c5",
   "metadata": {},
   "source": [
    "## Data Description"
   ]
  },
  {
   "cell_type": "markdown",
   "id": "0982b1fa",
   "metadata": {},
   "source": [
    "Data originally found in the DAAG R package and used in the book Maindonald, J.H. and Braun, W.J. (2003, 2007, 2010).\n",
    "\n",
    "This data appears to describe physical characteristics of Possum animal, possibly with different attributes depending on the 'site' and 'Pop' they belong to.\n",
    "\n",
    "The features include body parts and measurments such as hdlngth, skullw, totlngth, taill, footlgth, earconch, eye, chest and belly.\n",
    "\n",
    "Other related observations such as age, sex and population."
   ]
  },
  {
   "cell_type": "markdown",
   "id": "471fbc5b",
   "metadata": {},
   "source": [
    "## Loading the required Libraries "
   ]
  },
  {
   "cell_type": "code",
   "execution_count": 4,
   "id": "a2888f4c",
   "metadata": {},
   "outputs": [],
   "source": [
    "import numpy as np\n",
    "import pandas as pd\n",
    "import matplotlib.pyplot as plot \n",
    "import seaborn as sns\n",
    "from scipy import stats\n",
    "from scipy.stats import norm\n",
    "from scipy.stats import f_oneway\n",
    "from statsmodels.stats.multicomp import pairwise_tukeyhsd\n",
    "from scipy.stats import shapiro\n",
    "from scipy.stats import chi2_contingency\n",
    "from sklearn.feature_selection import chi2\n",
    "from sklearn.model_selection import train_test_split\n",
    "import statsmodels.api as sm\n",
    "from sklearn.linear_model import LinearRegression\n",
    "from sklearn.metrics import mean_squared_error\n",
    "from sklearn.linear_model import LogisticRegression\n",
    "from mpl_toolkits.mplot3d import Axes3D\n",
    "from sklearn.metrics import accuracy_score, f1_score\n",
    "from sklearn.model_selection import StratifiedKFold, KFold\n",
    "from mlxtend.feature_selection import SequentialFeatureSelector as SFS\n",
    "from sklearn.ensemble import RandomForestClassifier as RFC\n",
    "from sklearn.linear_model import Lasso, Ridge\n",
    "from sklearn.feature_selection import RFE\n",
    "from sklearn.decomposition import PCA\n",
    "from sklearn.preprocessing import StandardScaler\n",
    "from sklearn.metrics import r2_score\n",
    "from sklearn.preprocessing import PolynomialFeatures"
   ]
  },
  {
   "cell_type": "code",
   "execution_count": 5,
   "id": "274dc8c1",
   "metadata": {},
   "outputs": [],
   "source": [
    "df = pd.read_csv(\"C:/Users/Haneesh/Downloads/Possum/possum.csv\")"
   ]
  },
  {
   "cell_type": "code",
   "execution_count": 6,
   "id": "97e047c1",
   "metadata": {},
   "outputs": [
    {
     "name": "stdout",
     "output_type": "stream",
     "text": [
      "   case  site sex  age  hdlngth  skullw  totlngth  taill  footlgth  earconch  \\\n",
      "0     1     1   m  8.0     94.1    60.4      89.0   36.0      74.5      54.5   \n",
      "1     2     1   f  6.0     92.5    57.6      91.5   36.5      72.5      51.2   \n",
      "2     3     1   f  6.0     94.0    60.0      95.5   39.0      75.4      51.9   \n",
      "3     4     1   f  6.0     93.2    57.1      92.0   38.0      76.1      52.2   \n",
      "4     5     1   f  2.0     91.5    56.3      85.5   36.0      71.0      53.2   \n",
      "\n",
      "    eye  chest  belly  Pop  \n",
      "0  15.2   28.0   36.0  Vic  \n",
      "1  16.0   28.5   33.0  Vic  \n",
      "2  15.5   30.0   34.0  Vic  \n",
      "3  15.2   28.0   34.0  Vic  \n",
      "4  15.1   28.5   33.0  Vic  \n"
     ]
    }
   ],
   "source": [
    "print(df.head())"
   ]
  },
  {
   "cell_type": "code",
   "execution_count": 7,
   "id": "67f16ae6",
   "metadata": {},
   "outputs": [
    {
     "data": {
      "text/html": [
       "<div>\n",
       "<style scoped>\n",
       "    .dataframe tbody tr th:only-of-type {\n",
       "        vertical-align: middle;\n",
       "    }\n",
       "\n",
       "    .dataframe tbody tr th {\n",
       "        vertical-align: top;\n",
       "    }\n",
       "\n",
       "    .dataframe thead th {\n",
       "        text-align: right;\n",
       "    }\n",
       "</style>\n",
       "<table border=\"1\" class=\"dataframe\">\n",
       "  <thead>\n",
       "    <tr style=\"text-align: right;\">\n",
       "      <th></th>\n",
       "      <th>case</th>\n",
       "      <th>site</th>\n",
       "      <th>age</th>\n",
       "      <th>hdlngth</th>\n",
       "      <th>skullw</th>\n",
       "      <th>totlngth</th>\n",
       "      <th>taill</th>\n",
       "      <th>footlgth</th>\n",
       "      <th>earconch</th>\n",
       "      <th>eye</th>\n",
       "      <th>chest</th>\n",
       "      <th>belly</th>\n",
       "    </tr>\n",
       "  </thead>\n",
       "  <tbody>\n",
       "    <tr>\n",
       "      <th>count</th>\n",
       "      <td>104.000000</td>\n",
       "      <td>104.000000</td>\n",
       "      <td>102.000000</td>\n",
       "      <td>104.000000</td>\n",
       "      <td>104.000000</td>\n",
       "      <td>104.000000</td>\n",
       "      <td>104.000000</td>\n",
       "      <td>103.000000</td>\n",
       "      <td>104.000000</td>\n",
       "      <td>104.000000</td>\n",
       "      <td>104.000000</td>\n",
       "      <td>104.000000</td>\n",
       "    </tr>\n",
       "    <tr>\n",
       "      <th>mean</th>\n",
       "      <td>52.500000</td>\n",
       "      <td>3.625000</td>\n",
       "      <td>3.833333</td>\n",
       "      <td>92.602885</td>\n",
       "      <td>56.883654</td>\n",
       "      <td>87.088462</td>\n",
       "      <td>37.009615</td>\n",
       "      <td>68.459223</td>\n",
       "      <td>48.130769</td>\n",
       "      <td>15.046154</td>\n",
       "      <td>27.000000</td>\n",
       "      <td>32.586538</td>\n",
       "    </tr>\n",
       "    <tr>\n",
       "      <th>std</th>\n",
       "      <td>30.166206</td>\n",
       "      <td>2.349086</td>\n",
       "      <td>1.909244</td>\n",
       "      <td>3.573349</td>\n",
       "      <td>3.113426</td>\n",
       "      <td>4.310549</td>\n",
       "      <td>1.959518</td>\n",
       "      <td>4.395306</td>\n",
       "      <td>4.109380</td>\n",
       "      <td>1.050374</td>\n",
       "      <td>2.045597</td>\n",
       "      <td>2.761949</td>\n",
       "    </tr>\n",
       "    <tr>\n",
       "      <th>min</th>\n",
       "      <td>1.000000</td>\n",
       "      <td>1.000000</td>\n",
       "      <td>1.000000</td>\n",
       "      <td>82.500000</td>\n",
       "      <td>50.000000</td>\n",
       "      <td>75.000000</td>\n",
       "      <td>32.000000</td>\n",
       "      <td>60.300000</td>\n",
       "      <td>40.300000</td>\n",
       "      <td>12.800000</td>\n",
       "      <td>22.000000</td>\n",
       "      <td>25.000000</td>\n",
       "    </tr>\n",
       "    <tr>\n",
       "      <th>25%</th>\n",
       "      <td>26.750000</td>\n",
       "      <td>1.000000</td>\n",
       "      <td>2.250000</td>\n",
       "      <td>90.675000</td>\n",
       "      <td>54.975000</td>\n",
       "      <td>84.000000</td>\n",
       "      <td>35.875000</td>\n",
       "      <td>64.600000</td>\n",
       "      <td>44.800000</td>\n",
       "      <td>14.400000</td>\n",
       "      <td>25.500000</td>\n",
       "      <td>31.000000</td>\n",
       "    </tr>\n",
       "    <tr>\n",
       "      <th>50%</th>\n",
       "      <td>52.500000</td>\n",
       "      <td>3.000000</td>\n",
       "      <td>3.000000</td>\n",
       "      <td>92.800000</td>\n",
       "      <td>56.350000</td>\n",
       "      <td>88.000000</td>\n",
       "      <td>37.000000</td>\n",
       "      <td>68.000000</td>\n",
       "      <td>46.800000</td>\n",
       "      <td>14.900000</td>\n",
       "      <td>27.000000</td>\n",
       "      <td>32.500000</td>\n",
       "    </tr>\n",
       "    <tr>\n",
       "      <th>75%</th>\n",
       "      <td>78.250000</td>\n",
       "      <td>6.000000</td>\n",
       "      <td>5.000000</td>\n",
       "      <td>94.725000</td>\n",
       "      <td>58.100000</td>\n",
       "      <td>90.000000</td>\n",
       "      <td>38.000000</td>\n",
       "      <td>72.500000</td>\n",
       "      <td>52.000000</td>\n",
       "      <td>15.725000</td>\n",
       "      <td>28.000000</td>\n",
       "      <td>34.125000</td>\n",
       "    </tr>\n",
       "    <tr>\n",
       "      <th>max</th>\n",
       "      <td>104.000000</td>\n",
       "      <td>7.000000</td>\n",
       "      <td>9.000000</td>\n",
       "      <td>103.100000</td>\n",
       "      <td>68.600000</td>\n",
       "      <td>96.500000</td>\n",
       "      <td>43.000000</td>\n",
       "      <td>77.900000</td>\n",
       "      <td>56.200000</td>\n",
       "      <td>17.800000</td>\n",
       "      <td>32.000000</td>\n",
       "      <td>40.000000</td>\n",
       "    </tr>\n",
       "  </tbody>\n",
       "</table>\n",
       "</div>"
      ],
      "text/plain": [
       "             case        site         age     hdlngth      skullw    totlngth  \\\n",
       "count  104.000000  104.000000  102.000000  104.000000  104.000000  104.000000   \n",
       "mean    52.500000    3.625000    3.833333   92.602885   56.883654   87.088462   \n",
       "std     30.166206    2.349086    1.909244    3.573349    3.113426    4.310549   \n",
       "min      1.000000    1.000000    1.000000   82.500000   50.000000   75.000000   \n",
       "25%     26.750000    1.000000    2.250000   90.675000   54.975000   84.000000   \n",
       "50%     52.500000    3.000000    3.000000   92.800000   56.350000   88.000000   \n",
       "75%     78.250000    6.000000    5.000000   94.725000   58.100000   90.000000   \n",
       "max    104.000000    7.000000    9.000000  103.100000   68.600000   96.500000   \n",
       "\n",
       "            taill    footlgth    earconch         eye       chest       belly  \n",
       "count  104.000000  103.000000  104.000000  104.000000  104.000000  104.000000  \n",
       "mean    37.009615   68.459223   48.130769   15.046154   27.000000   32.586538  \n",
       "std      1.959518    4.395306    4.109380    1.050374    2.045597    2.761949  \n",
       "min     32.000000   60.300000   40.300000   12.800000   22.000000   25.000000  \n",
       "25%     35.875000   64.600000   44.800000   14.400000   25.500000   31.000000  \n",
       "50%     37.000000   68.000000   46.800000   14.900000   27.000000   32.500000  \n",
       "75%     38.000000   72.500000   52.000000   15.725000   28.000000   34.125000  \n",
       "max     43.000000   77.900000   56.200000   17.800000   32.000000   40.000000  "
      ]
     },
     "execution_count": 7,
     "metadata": {},
     "output_type": "execute_result"
    }
   ],
   "source": [
    "df.describe()"
   ]
  },
  {
   "cell_type": "markdown",
   "id": "2970569d",
   "metadata": {},
   "source": [
    "# Data Preprocessing"
   ]
  },
  {
   "cell_type": "markdown",
   "id": "6e44693d",
   "metadata": {},
   "source": [
    "Checking for null value and dropping them from the data set"
   ]
  },
  {
   "cell_type": "code",
   "execution_count": 5,
   "id": "db18944a",
   "metadata": {},
   "outputs": [
    {
     "data": {
      "text/plain": [
       "case        0\n",
       "site        0\n",
       "sex         0\n",
       "age         2\n",
       "hdlngth     0\n",
       "skullw      0\n",
       "totlngth    0\n",
       "taill       0\n",
       "footlgth    1\n",
       "earconch    0\n",
       "eye         0\n",
       "chest       0\n",
       "belly       0\n",
       "Pop         0\n",
       "dtype: int64"
      ]
     },
     "execution_count": 5,
     "metadata": {},
     "output_type": "execute_result"
    }
   ],
   "source": [
    "df.isnull().sum()"
   ]
  },
  {
   "cell_type": "code",
   "execution_count": 6,
   "id": "0df16900",
   "metadata": {},
   "outputs": [
    {
     "data": {
      "text/plain": [
       "case        0\n",
       "site        0\n",
       "sex         0\n",
       "age         0\n",
       "hdlngth     0\n",
       "skullw      0\n",
       "totlngth    0\n",
       "taill       0\n",
       "footlgth    0\n",
       "earconch    0\n",
       "eye         0\n",
       "chest       0\n",
       "belly       0\n",
       "Pop         0\n",
       "dtype: int64"
      ]
     },
     "execution_count": 6,
     "metadata": {},
     "output_type": "execute_result"
    }
   ],
   "source": [
    "df=df.dropna()\n",
    "df.isnull().sum()"
   ]
  },
  {
   "cell_type": "code",
   "execution_count": 7,
   "id": "068fd07a",
   "metadata": {},
   "outputs": [],
   "source": [
    "df.replace('Vic',0, inplace=True)\n",
    "df.replace('other',1, inplace=True)\n",
    "df.replace('f',10,inplace=True)\n",
    "df.replace('m',20,inplace=True)"
   ]
  },
  {
   "cell_type": "markdown",
   "id": "ffd18333",
   "metadata": {},
   "source": [
    "# Checking the Correlation Between all the Variables"
   ]
  },
  {
   "cell_type": "code",
   "execution_count": 8,
   "id": "45724d54",
   "metadata": {},
   "outputs": [
    {
     "name": "stdout",
     "output_type": "stream",
     "text": [
      "              case      site       sex       age   hdlngth    skullw  \\\n",
      "case      1.000000  0.972590  0.257541 -0.192688 -0.227342 -0.134138   \n",
      "site      0.972590  1.000000  0.241195 -0.127688 -0.195820 -0.103363   \n",
      "sex       0.257541  0.241195  1.000000 -0.057821  0.118705  0.104349   \n",
      "age      -0.192688 -0.127688 -0.057821  1.000000  0.329505  0.285563   \n",
      "hdlngth  -0.227342 -0.195820  0.118705  0.329505  1.000000  0.705901   \n",
      "skullw   -0.134138 -0.103363  0.104349  0.285563  0.705901  1.000000   \n",
      "totlngth -0.361924 -0.304642 -0.152441  0.268297  0.670402  0.506382   \n",
      "taill     0.313060  0.372065 -0.029907  0.120205  0.275155  0.241027   \n",
      "footlgth -0.784031 -0.781489 -0.137153  0.126190  0.415945  0.297197   \n",
      "earconch -0.798400 -0.818580 -0.133683  0.066234  0.131576  0.025293   \n",
      "eye      -0.084774 -0.040443  0.212078  0.231857  0.354688  0.314319   \n",
      "chest    -0.422289 -0.380269 -0.117863  0.335030  0.621068  0.613842   \n",
      "belly    -0.224667 -0.195044 -0.093835  0.360816  0.545438  0.444216   \n",
      "Pop       0.868030  0.892316  0.207966 -0.080523 -0.041064  0.039545   \n",
      "\n",
      "          totlngth     taill  footlgth  earconch       eye     chest  \\\n",
      "case     -0.361924  0.313060 -0.784031 -0.798400 -0.084774 -0.422289   \n",
      "site     -0.304642  0.372065 -0.781489 -0.818580 -0.040443 -0.380269   \n",
      "sex      -0.152441 -0.029907 -0.137153 -0.133683  0.212078 -0.117863   \n",
      "age       0.268297  0.120205  0.126190  0.066234  0.231857  0.335030   \n",
      "hdlngth   0.670402  0.275155  0.415945  0.131576  0.354688  0.621068   \n",
      "skullw    0.506382  0.241027  0.297197  0.025293  0.314319  0.613842   \n",
      "totlngth  1.000000  0.563586  0.483174  0.181230  0.247150  0.556094   \n",
      "taill     0.563586  1.000000 -0.114560 -0.387871  0.192341  0.152924   \n",
      "footlgth  0.483174 -0.114560  1.000000  0.782415  0.013869  0.486477   \n",
      "earconch  0.181230 -0.387871  0.782415  1.000000 -0.143869  0.241359   \n",
      "eye       0.247150  0.192341  0.013869 -0.143869  1.000000  0.134730   \n",
      "chest     0.556094  0.152924  0.486477  0.241359  0.134730  1.000000   \n",
      "belly     0.500558  0.296206  0.311970  0.071309  0.242902  0.609757   \n",
      "Pop      -0.133877  0.481018 -0.791939 -0.925583  0.147726 -0.241328   \n",
      "\n",
      "             belly       Pop  \n",
      "case     -0.224667  0.868030  \n",
      "site     -0.195044  0.892316  \n",
      "sex      -0.093835  0.207966  \n",
      "age       0.360816 -0.080523  \n",
      "hdlngth   0.545438 -0.041064  \n",
      "skullw    0.444216  0.039545  \n",
      "totlngth  0.500558 -0.133877  \n",
      "taill     0.296206  0.481018  \n",
      "footlgth  0.311970 -0.791939  \n",
      "earconch  0.071309 -0.925583  \n",
      "eye       0.242902  0.147726  \n",
      "chest     0.609757 -0.241328  \n",
      "belly     1.000000 -0.048246  \n",
      "Pop      -0.048246  1.000000  \n"
     ]
    }
   ],
   "source": [
    "corr_matrix=df.corr()\n",
    "print(corr_matrix)"
   ]
  },
  {
   "cell_type": "code",
   "execution_count": 9,
   "id": "d9db2d13",
   "metadata": {
    "scrolled": true
   },
   "outputs": [
    {
     "data": {
      "image/png": "[encoded data removed]",
      "text/plain": [
       "<Figure size 640x480 with 2 Axes>"
      ]
     },
     "metadata": {},
     "output_type": "display_data"
    }
   ],
   "source": [
    "sns.heatmap(corr_matrix, cmap=\"coolwarm\", annot=True)\n",
    "plot.show()"
   ]
  },
  {
   "cell_type": "code",
   "execution_count": 10,
   "id": "394cbca6",
   "metadata": {},
   "outputs": [],
   "source": [
    "stat, p=shapiro(df)"
   ]
  },
  {
   "cell_type": "code",
   "execution_count": 11,
   "id": "14ae802a",
   "metadata": {},
   "outputs": [
    {
     "name": "stdout",
     "output_type": "stream",
     "text": [
      "Normal Distribution\n"
     ]
    }
   ],
   "source": [
    "alpha = 0.05\n",
    "if p < alpha:\n",
    "    print('Normal Distribution')\n",
    "else:\n",
    "    print('Not Normal Distribution')"
   ]
  },
  {
   "cell_type": "markdown",
   "id": "9c7c51b9",
   "metadata": {},
   "source": [
    "## Nonparametric Tests"
   ]
  },
  {
   "cell_type": "markdown",
   "id": "1cf96ee6",
   "metadata": {},
   "source": [
    "## Z - test"
   ]
  },
  {
   "cell_type": "markdown",
   "id": "e7359188",
   "metadata": {},
   "source": [
    "A z test is conducted on a population that follows a normal distribution with independent data points and has a sample size \n",
    "that is greater than or equal to 30. It is used to check whether the means of two populations are equal to each other when the \n",
    "population variance is known. The null hypothesis of a z test can be rejected if the z test statistic is statistically \n",
    "significant when compared with the critical value"
   ]
  },
  {
   "cell_type": "code",
   "execution_count": 12,
   "id": "8cfb82a0",
   "metadata": {},
   "outputs": [],
   "source": [
    "sample1=df.Pop\n",
    "sample2=df.sex"
   ]
  },
  {
   "cell_type": "code",
   "execution_count": 13,
   "id": "48409556",
   "metadata": {},
   "outputs": [
    {
     "name": "stdout",
     "output_type": "stream",
     "text": [
      "mean1: 0.5742574257425742\n",
      "mean2: 15.841584158415841\n"
     ]
    }
   ],
   "source": [
    "mean1=np.mean(sample1)\n",
    "print('mean1:', mean1)\n",
    "mean2=np.mean(sample2)\n",
    "print('mean2:', mean2)"
   ]
  },
  {
   "cell_type": "code",
   "execution_count": 14,
   "id": "8f1b5775",
   "metadata": {},
   "outputs": [
    {
     "name": "stdout",
     "output_type": "stream",
     "text": [
      "std1: 0.4944550886805452\n",
      "std2: 4.928664738476693\n"
     ]
    }
   ],
   "source": [
    "std1=np.std(sample1)\n",
    "print('std1:', std1)\n",
    "std2=np.std(sample2)\n",
    "print('std2:', std2)"
   ]
  },
  {
   "cell_type": "code",
   "execution_count": 15,
   "id": "8ed98c27",
   "metadata": {},
   "outputs": [],
   "source": [
    "n1=len(sample1)\n",
    "n2=len(sample2)"
   ]
  },
  {
   "cell_type": "code",
   "execution_count": 16,
   "id": "b4f3b720",
   "metadata": {},
   "outputs": [
    {
     "name": "stdout",
     "output_type": "stream",
     "text": [
      "Z_score: -30.97560810963735\n",
      "p_value: 1.148767599466977e-210\n"
     ]
    }
   ],
   "source": [
    "Z_score=(mean1 - mean2) / np.sqrt((std1**2 / n1)+(std2**2 / n2))\n",
    "print('Z_score:', Z_score)\n",
    "p_value= 2 * norm.cdf(- abs(Z_score))\n",
    "print('p_value:', p_value)"
   ]
  },
  {
   "cell_type": "code",
   "execution_count": 17,
   "id": "75c2be8b",
   "metadata": {},
   "outputs": [
    {
     "name": "stdout",
     "output_type": "stream",
     "text": [
      "reject H0\n"
     ]
    }
   ],
   "source": [
    "alpha = 0.05\n",
    "if p_value < alpha: \n",
    "    print('reject H0')\n",
    "else: \n",
    "    print('fail to reject H0')"
   ]
  },
  {
   "cell_type": "markdown",
   "id": "856eff47",
   "metadata": {},
   "source": [
    "# F-Test(One Way Anova)"
   ]
  },
  {
   "cell_type": "markdown",
   "id": "eaf58ee9",
   "metadata": {},
   "source": [
    "We are checking that is all the means are equal or not using F-test."
   ]
  },
  {
   "cell_type": "code",
   "execution_count": 18,
   "id": "df70cbc6",
   "metadata": {},
   "outputs": [],
   "source": [
    "stat,p_value=f_oneway(df.sex,df.site,df.age,df.hdlngth,df.skullw,df.totlngth,df.footlgth,df.taill,df.earconch,df.eye,\n",
    "df.chest,df.belly)"
   ]
  },
  {
   "cell_type": "code",
   "execution_count": 19,
   "id": "3c407c74",
   "metadata": {},
   "outputs": [
    {
     "name": "stdout",
     "output_type": "stream",
     "text": [
      "8954.468220777773 0.0\n",
      "0.000\n"
     ]
    }
   ],
   "source": [
    "print(stat,p_value)\n",
    "print('%.3f'%p_value)"
   ]
  },
  {
   "cell_type": "code",
   "execution_count": 20,
   "id": "f1575987",
   "metadata": {},
   "outputs": [
    {
     "name": "stdout",
     "output_type": "stream",
     "text": [
      "reject H0\n"
     ]
    }
   ],
   "source": [
    "alpha = 0.05\n",
    "if p_value > alpha: \n",
    "    print('fail to reject H0')\n",
    "else: \n",
    "    print('reject H0') "
   ]
  },
  {
   "cell_type": "markdown",
   "id": "685ee7f2",
   "metadata": {},
   "source": [
    "# Tukey's Honest Significant Test"
   ]
  },
  {
   "cell_type": "markdown",
   "id": "7075e29c",
   "metadata": {},
   "source": [
    "Tukey’s test compares the means of every treatment to the means of every other treatment; that is, it applies simultaneously to the set of all pairwise comparisons and identifies any difference between two means that is greater than the expected standard error.\n",
    "\n",
    "The purpose of Tukey’s test is to figure out which groups in your sample differ. It uses the “Honest Significant Difference,” a number that represents the distance between groups, to compare every mean with every other mean."
   ]
  },
  {
   "cell_type": "code",
   "execution_count": 21,
   "id": "949bfede",
   "metadata": {},
   "outputs": [
    {
     "name": "stdout",
     "output_type": "stream",
     "text": [
      "Multiple Comparison of Means - Tukey HSD, FWER=0.05\n",
      "================================================\n",
      "group1 group2 meandiff p-adj lower  upper reject\n",
      "------------------------------------------------\n",
      "     0      1   4.2502   0.0 3.8214 4.679   True\n",
      "------------------------------------------------\n"
     ]
    }
   ],
   "source": [
    "tukey=pairwise_tukeyhsd(endog=df['site'],groups=df['Pop'],alpha=0.05)\n",
    "print(tukey.summary())"
   ]
  },
  {
   "cell_type": "code",
   "execution_count": 22,
   "id": "06af9d58",
   "metadata": {},
   "outputs": [
    {
     "name": "stdout",
     "output_type": "stream",
     "text": [
      "Multiple Comparison of Means - Tukey HSD, FWER=0.05\n",
      "===================================================\n",
      "group1 group2 meandiff p-adj   lower  upper  reject\n",
      "---------------------------------------------------\n",
      "     0      1  -0.3103 0.4234 -1.0764 0.4557  False\n",
      "---------------------------------------------------\n"
     ]
    }
   ],
   "source": [
    "tukey=pairwise_tukeyhsd(endog=df['age'],groups=df['Pop'],alpha=0.05)\n",
    "print(tukey.summary())"
   ]
  },
  {
   "cell_type": "code",
   "execution_count": 8,
   "id": "8a2a44bd",
   "metadata": {},
   "outputs": [
    {
     "name": "stdout",
     "output_type": "stream",
     "text": [
      "Multiple Comparison of Means - Tukey HSD, FWER=0.05\n",
      "===================================================\n",
      "group1 group2 meandiff p-adj   lower  upper  reject\n",
      "---------------------------------------------------\n",
      "   Vic  other   0.0091 0.9898 -1.3971 1.4153  False\n",
      "---------------------------------------------------\n"
     ]
    }
   ],
   "source": [
    "tukey=pairwise_tukeyhsd(endog=df['hdlngth'],groups=df['Pop'],alpha=0.05)\n",
    "print(tukey.summary())"
   ]
  },
  {
   "cell_type": "code",
   "execution_count": 24,
   "id": "2707e1d1",
   "metadata": {},
   "outputs": [
    {
     "name": "stdout",
     "output_type": "stream",
     "text": [
      "Multiple Comparison of Means - Tukey HSD, FWER=0.05\n",
      "===================================================\n",
      "group1 group2 meandiff p-adj   lower  upper  reject\n",
      "---------------------------------------------------\n",
      "     0      1   0.2469 0.6946 -0.9973 1.4911  False\n",
      "---------------------------------------------------\n"
     ]
    }
   ],
   "source": [
    "tukey=pairwise_tukeyhsd(endog=df['skullw'],groups=df['Pop'],alpha=0.05)\n",
    "print(tukey.summary())"
   ]
  },
  {
   "cell_type": "code",
   "execution_count": 25,
   "id": "97a71333",
   "metadata": {},
   "outputs": [
    {
     "name": "stdout",
     "output_type": "stream",
     "text": [
      "Multiple Comparison of Means - Tukey HSD, FWER=0.05\n",
      "==================================================\n",
      "group1 group2 meandiff p-adj  lower  upper  reject\n",
      "--------------------------------------------------\n",
      "     0      1  -1.1307 0.182 -2.7997 0.5384  False\n",
      "--------------------------------------------------\n"
     ]
    }
   ],
   "source": [
    "tukey=pairwise_tukeyhsd(endog=df['totlngth'],groups=df['Pop'],alpha=0.05)\n",
    "print(tukey.summary())"
   ]
  },
  {
   "cell_type": "code",
   "execution_count": 26,
   "id": "164024ee",
   "metadata": {},
   "outputs": [
    {
     "name": "stdout",
     "output_type": "stream",
     "text": [
      "Multiple Comparison of Means - Tukey HSD, FWER=0.05\n",
      "=================================================\n",
      "group1 group2 meandiff p-adj lower  upper  reject\n",
      "-------------------------------------------------\n",
      "     0      1   1.9086   0.0 1.2149 2.6023   True\n",
      "-------------------------------------------------\n"
     ]
    }
   ],
   "source": [
    "tukey=pairwise_tukeyhsd(endog=df['taill'],groups=df['Pop'],alpha=0.05)\n",
    "print(tukey.summary())"
   ]
  },
  {
   "cell_type": "code",
   "execution_count": 27,
   "id": "81cfb388",
   "metadata": {},
   "outputs": [
    {
     "name": "stdout",
     "output_type": "stream",
     "text": [
      "Multiple Comparison of Means - Tukey HSD, FWER=0.05\n",
      "===================================================\n",
      "group1 group2 meandiff p-adj  lower   upper  reject\n",
      "---------------------------------------------------\n",
      "     0      1  -7.0338   0.0 -8.1153 -5.9523   True\n",
      "---------------------------------------------------\n"
     ]
    }
   ],
   "source": [
    "tukey=pairwise_tukeyhsd(endog=df['footlgth'],groups=df['Pop'],alpha=0.05)\n",
    "print(tukey.summary())"
   ]
  },
  {
   "cell_type": "code",
   "execution_count": 28,
   "id": "9e9fd0df",
   "metadata": {},
   "outputs": [
    {
     "name": "stdout",
     "output_type": "stream",
     "text": [
      "Multiple Comparison of Means - Tukey HSD, FWER=0.05\n",
      "===================================================\n",
      "group1 group2 meandiff p-adj  lower   upper  reject\n",
      "---------------------------------------------------\n",
      "     0      1   -7.563   0.0 -8.1798 -6.9461   True\n",
      "---------------------------------------------------\n"
     ]
    }
   ],
   "source": [
    "tukey=pairwise_tukeyhsd(endog=df['earconch'],groups=df['Pop'],alpha=0.05)\n",
    "print(tukey.summary())"
   ]
  },
  {
   "cell_type": "code",
   "execution_count": 29,
   "id": "ced1024c",
   "metadata": {},
   "outputs": [
    {
     "name": "stdout",
     "output_type": "stream",
     "text": [
      "Multiple Comparison of Means - Tukey HSD, FWER=0.05\n",
      "===================================================\n",
      "group1 group2 meandiff p-adj   lower  upper  reject\n",
      "---------------------------------------------------\n",
      "     0      1   0.3147 0.1404 -0.1055 0.7349  False\n",
      "---------------------------------------------------\n"
     ]
    }
   ],
   "source": [
    "tukey=pairwise_tukeyhsd(endog=df['eye'],groups=df['Pop'],alpha=0.05)\n",
    "print(tukey.summary())"
   ]
  },
  {
   "cell_type": "code",
   "execution_count": 30,
   "id": "f40fe1e0",
   "metadata": {},
   "outputs": [
    {
     "name": "stdout",
     "output_type": "stream",
     "text": [
      "Multiple Comparison of Means - Tukey HSD, FWER=0.05 \n",
      "====================================================\n",
      "group1 group2 meandiff p-adj   lower   upper  reject\n",
      "----------------------------------------------------\n",
      "     0      1  -0.9814 0.0151 -1.7683 -0.1944   True\n",
      "----------------------------------------------------\n"
     ]
    }
   ],
   "source": [
    "tukey=pairwise_tukeyhsd(endog=df['chest'],groups=df['Pop'],alpha=0.05)\n",
    "print(tukey.summary())"
   ]
  },
  {
   "cell_type": "code",
   "execution_count": 31,
   "id": "31398620",
   "metadata": {},
   "outputs": [
    {
     "name": "stdout",
     "output_type": "stream",
     "text": [
      "Multiple Comparison of Means - Tukey HSD, FWER=0.05\n",
      "===================================================\n",
      "group1 group2 meandiff p-adj   lower  upper  reject\n",
      "---------------------------------------------------\n",
      "     0      1  -0.2648 0.6319 -1.3582 0.8286  False\n",
      "---------------------------------------------------\n"
     ]
    }
   ],
   "source": [
    "tukey=pairwise_tukeyhsd(endog=df['belly'],groups=df['Pop'],alpha=0.05)\n",
    "print(tukey.summary())"
   ]
  },
  {
   "cell_type": "markdown",
   "id": "b8b5bf71",
   "metadata": {},
   "source": [
    "## The Analysis of Categorical Data"
   ]
  },
  {
   "cell_type": "markdown",
   "id": "ca4b7b32",
   "metadata": {},
   "source": [
    "## CHI SQUARED TEST OF INDEPENDENCE"
   ]
  },
  {
   "cell_type": "markdown",
   "id": "b17a5644",
   "metadata": {},
   "source": [
    "The chi-square test of independence is a statistical test used to determine whether two categorical variables are related in the population. It evaluates a null and alternative hypothesis and determines whether the values of one categorical variable depend on the value of other categorical variables. The test is valid when the test statistic is chi-squared distributed under the null hypothesis, and it is used to determine whether there is a statistically significant difference between the expected frequencies and the observed frequencies in one or more categories of a contingency table."
   ]
  },
  {
   "cell_type": "code",
   "execution_count": 32,
   "id": "cbf97b98",
   "metadata": {},
   "outputs": [],
   "source": [
    "columns= ['sex','age']"
   ]
  },
  {
   "cell_type": "code",
   "execution_count": 33,
   "id": "5f712096",
   "metadata": {},
   "outputs": [
    {
     "name": "stdout",
     "output_type": "stream",
     "text": [
      "age  1.0  2.0  3.0  4.0  5.0  6.0  7.0  8.0  9.0\n",
      "sex                                             \n",
      "10     3    7   11    6    5    7    1    0    2\n",
      "20     7    9   16    8    7    5    6    1    0\n"
     ]
    }
   ],
   "source": [
    "contingency_table = pd.crosstab(df[columns[0]], df[columns[1]])\n",
    "print(contingency_table)"
   ]
  },
  {
   "cell_type": "code",
   "execution_count": 34,
   "id": "59c38142",
   "metadata": {},
   "outputs": [],
   "source": [
    "chi_2,p_value,dof,expected= chi2_contingency(contingency_table)"
   ]
  },
  {
   "cell_type": "code",
   "execution_count": 35,
   "id": "df794290",
   "metadata": {},
   "outputs": [
    {
     "name": "stdout",
     "output_type": "stream",
     "text": [
      "Chi-squared value: 7.6552261221500535\n",
      "P-value: 0.46785207442448074\n",
      "Degrees of freedom: 8\n",
      "Expected values: [[ 4.15841584  6.65346535 11.22772277  5.82178218  4.99009901  4.99009901\n",
      "   2.91089109  0.41584158  0.83168317]\n",
      " [ 5.84158416  9.34653465 15.77227723  8.17821782  7.00990099  7.00990099\n",
      "   4.08910891  0.58415842  1.16831683]]\n"
     ]
    }
   ],
   "source": [
    "print('Chi-squared value:', chi_2)\n",
    "print('P-value:', p_value)\n",
    "print('Degrees of freedom:', dof)\n",
    "print('Expected values:', expected)"
   ]
  },
  {
   "cell_type": "code",
   "execution_count": 36,
   "id": "4feaeeb4",
   "metadata": {},
   "outputs": [
    {
     "data": {
      "text/plain": [
       "15.507313055865453"
      ]
     },
     "execution_count": 36,
     "metadata": {},
     "output_type": "execute_result"
    }
   ],
   "source": [
    "q=0.95\n",
    "from scipy.stats import chi2\n",
    "critical=chi2.ppf(q,dof)\n",
    "critical"
   ]
  },
  {
   "cell_type": "code",
   "execution_count": 37,
   "id": "422a1864",
   "metadata": {},
   "outputs": [
    {
     "name": "stdout",
     "output_type": "stream",
     "text": [
      "Independent (fail to reject H0)\n"
     ]
    }
   ],
   "source": [
    "if chi_2 > critical: \n",
    "    print('Dependent (reject H0)')\n",
    "else: \n",
    "    print('Independent (fail to reject H0)')"
   ]
  },
  {
   "cell_type": "markdown",
   "id": "d5676c76",
   "metadata": {},
   "source": [
    "## Linear Regression"
   ]
  },
  {
   "cell_type": "markdown",
   "id": "a9be38ca",
   "metadata": {},
   "source": [
    "Linear regression is a commonly used statistical technique for modeling the relationship between a dependent variable (also known as the response or outcome variable) and one or more independent variables (also known as predictor or explanatory variables).It can be used to predict future trends, identify relationships between variables, and quantify the impact of different variables on the outcome variable."
   ]
  },
  {
   "cell_type": "code",
   "execution_count": 38,
   "id": "aea8d392",
   "metadata": {},
   "outputs": [],
   "source": [
    "X=df[['site','sex','age','hdlngth','skullw','totlngth','taill','footlgth','earconch','eye','chest','belly']]\n",
    "Y=df['Pop']"
   ]
  },
  {
   "cell_type": "code",
   "execution_count": 39,
   "id": "6486296f",
   "metadata": {},
   "outputs": [
    {
     "name": "stdout",
     "output_type": "stream",
     "text": [
      "(101, 12)\n",
      "(101,)\n"
     ]
    }
   ],
   "source": [
    "print(X.shape)\n",
    "print(Y.shape)"
   ]
  },
  {
   "cell_type": "code",
   "execution_count": 40,
   "id": "fcbc2d37",
   "metadata": {},
   "outputs": [],
   "source": [
    "X_train,X_test,Y_train,Y_test=train_test_split(X,Y,train_size=0.2,random_state=0)"
   ]
  },
  {
   "cell_type": "code",
   "execution_count": 41,
   "id": "3d6da860",
   "metadata": {},
   "outputs": [
    {
     "name": "stdout",
     "output_type": "stream",
     "text": [
      "(20, 12)\n",
      "(81, 12)\n",
      "(20,)\n",
      "(81,)\n"
     ]
    }
   ],
   "source": [
    "print(X_train.shape)\n",
    "print(X_test.shape)\n",
    "print(Y_train.shape)\n",
    "print(Y_test.shape)"
   ]
  },
  {
   "cell_type": "code",
   "execution_count": 42,
   "id": "8616f906",
   "metadata": {},
   "outputs": [],
   "source": [
    "linear_regression = LinearRegression()"
   ]
  },
  {
   "cell_type": "code",
   "execution_count": 43,
   "id": "e8f77b9e",
   "metadata": {},
   "outputs": [],
   "source": [
    "df.replace('m',20,inplace=True)"
   ]
  },
  {
   "cell_type": "code",
   "execution_count": 44,
   "id": "c4b82ea5",
   "metadata": {},
   "outputs": [
    {
     "data": {
      "text/plain": [
       "LinearRegression()"
      ]
     },
     "execution_count": 44,
     "metadata": {},
     "output_type": "execute_result"
    }
   ],
   "source": [
    "linear_regression.fit(X,Y)"
   ]
  },
  {
   "cell_type": "code",
   "execution_count": 45,
   "id": "1cfea869",
   "metadata": {},
   "outputs": [],
   "source": [
    "predictions = linear_regression.predict(X)"
   ]
  },
  {
   "cell_type": "code",
   "execution_count": 46,
   "id": "85d83b9d",
   "metadata": {},
   "outputs": [
    {
     "data": {
      "text/plain": [
       "0.012819090540341917"
      ]
     },
     "execution_count": 46,
     "metadata": {},
     "output_type": "execute_result"
    }
   ],
   "source": [
    "mse = mean_squared_error(Y, predictions)\n",
    "mse"
   ]
  },
  {
   "cell_type": "code",
   "execution_count": 47,
   "id": "1ff40972",
   "metadata": {},
   "outputs": [
    {
     "data": {
      "text/plain": [
       "0.947567144105041"
      ]
     },
     "execution_count": 47,
     "metadata": {},
     "output_type": "execute_result"
    }
   ],
   "source": [
    "R2 = r2_score(Y, predictions)\n",
    "R2"
   ]
  },
  {
   "cell_type": "code",
   "execution_count": 48,
   "id": "1c931748",
   "metadata": {},
   "outputs": [
    {
     "name": "stdout",
     "output_type": "stream",
     "text": [
      "case        0\n",
      "site        0\n",
      "sex         0\n",
      "age         0\n",
      "hdlngth     0\n",
      "skullw      0\n",
      "totlngth    0\n",
      "taill       0\n",
      "footlgth    0\n",
      "earconch    0\n",
      "eye         0\n",
      "chest       0\n",
      "belly       0\n",
      "Pop         0\n",
      "dtype: int64\n"
     ]
    }
   ],
   "source": [
    "print(df.isnull().sum())"
   ]
  },
  {
   "cell_type": "code",
   "execution_count": 49,
   "id": "41a13154",
   "metadata": {},
   "outputs": [
    {
     "data": {
      "image/png": "[encoded data removed]",
      "text/plain": [
       "<Figure size 640x480 with 1 Axes>"
      ]
     },
     "metadata": {},
     "output_type": "display_data"
    }
   ],
   "source": [
    "for col in X.columns:\n",
    "    plot.scatter(X[col], Y)\n",
    "plot.plot(X,predictions,color='red')\n",
    "\n",
    "plot.xlabel('X Variables')\n",
    "plot.ylabel('Y Variable')\n",
    "plot.title('Linear Regression')\n",
    "\n",
    "plot.show()"
   ]
  },
  {
   "cell_type": "markdown",
   "id": "76feab4a",
   "metadata": {},
   "source": [
    "## Resampling Method"
   ]
  },
  {
   "cell_type": "markdown",
   "id": "3b69e3c5",
   "metadata": {},
   "source": [
    "Cross-validation is a resampling method that uses different portions of the data to test and train a model on different iterations. It is mainly used in settings where the goal is prediction, and one wants to estimate how accurately a predictive model will perform.\n",
    "\n",
    "In stratified k-fold cross-validation, the data is split into k-folds, where each fold has an equal proportion of samples of each target class as the complete data set. This ensures that the distribution of the target variable is preserved across all folds, which can lead to better and more reliable model performance estimation."
   ]
  },
  {
   "cell_type": "code",
   "execution_count": 50,
   "id": "616e4f0d",
   "metadata": {},
   "outputs": [],
   "source": [
    "X=df[['site','taill']]\n",
    "Y=df['Pop']"
   ]
  },
  {
   "cell_type": "code",
   "execution_count": 51,
   "id": "fa8bd69f",
   "metadata": {},
   "outputs": [],
   "source": [
    "X_train,X_test,Y_train,Y_test=train_test_split(X,Y,test_size=0.25,random_state=0)"
   ]
  },
  {
   "cell_type": "code",
   "execution_count": 52,
   "id": "2fd95d9f",
   "metadata": {},
   "outputs": [
    {
     "data": {
      "text/plain": [
       "LogisticRegression()"
      ]
     },
     "execution_count": 52,
     "metadata": {},
     "output_type": "execute_result"
    }
   ],
   "source": [
    "lr = LogisticRegression()\n",
    "lr.fit(X_train,Y_train)"
   ]
  },
  {
   "cell_type": "code",
   "execution_count": 53,
   "id": "9a16ca60",
   "metadata": {},
   "outputs": [
    {
     "data": {
      "text/plain": [
       "1.0"
      ]
     },
     "execution_count": 53,
     "metadata": {},
     "output_type": "execute_result"
    }
   ],
   "source": [
    "lr.score(X_test,Y_test)"
   ]
  },
  {
   "cell_type": "code",
   "execution_count": 54,
   "id": "36fe39d6",
   "metadata": {},
   "outputs": [],
   "source": [
    "SKF = StratifiedKFold(n_splits = 7)\n",
    "KF = KFold(n_splits = 7)"
   ]
  },
  {
   "cell_type": "code",
   "execution_count": 55,
   "id": "4146c4d2",
   "metadata": {},
   "outputs": [],
   "source": [
    "scores_logistic_KF = []\n",
    "scores_logistic_SKF = []"
   ]
  },
  {
   "cell_type": "code",
   "execution_count": 56,
   "id": "9de924c9",
   "metadata": {},
   "outputs": [],
   "source": [
    "for train_index, test_index in KF.split(X,Y):\n",
    "    X_train,X_test,Y_train,Y_test=X.iloc[train_index], X.iloc[test_index],Y.iloc[train_index], Y.iloc[test_index]\n",
    "    lr.fit(X_train, Y_train)\n",
    "    score = lr.score(X_test, Y_test)\n",
    "    scores_logistic_KF.append(score)\n",
    "    \n",
    "for train_index, test_index in SKF.split(X,Y):\n",
    "    X_train,X_test,Y_train,Y_test=X.iloc[train_index], X.iloc[test_index],Y.iloc[train_index], Y.iloc[test_index]\n",
    "    lr.fit(X_train, Y_train)\n",
    "    score = lr.score(X_test, Y_test)\n",
    "    scores_logistic_SKF.append(score)"
   ]
  },
  {
   "cell_type": "code",
   "execution_count": 57,
   "id": "f7b2fcb5",
   "metadata": {},
   "outputs": [
    {
     "name": "stdout",
     "output_type": "stream",
     "text": [
      "[1.0, 1.0, 1.0, 0.9285714285714286, 1.0, 1.0, 1.0]\n",
      "[0.7333333333333333, 1.0, 1.0, 1.0, 1.0, 1.0, 1.0]\n"
     ]
    }
   ],
   "source": [
    "print(scores_logistic_KF)\n",
    "print(scores_logistic_SKF)"
   ]
  },
  {
   "cell_type": "code",
   "execution_count": 58,
   "id": "2405470c",
   "metadata": {},
   "outputs": [
    {
     "name": "stdout",
     "output_type": "stream",
     "text": [
      "0.9897959183673469\n",
      "0.9619047619047619\n"
     ]
    }
   ],
   "source": [
    "print(np.average(scores_logistic_KF))\n",
    "print(np.average(scores_logistic_SKF))"
   ]
  },
  {
   "cell_type": "markdown",
   "id": "460e1abb",
   "metadata": {},
   "source": [
    "## Linear Model Selection and Regularization"
   ]
  },
  {
   "cell_type": "markdown",
   "id": "6a35bab4",
   "metadata": {},
   "source": [
    "Linear model selection is the process of choosing which variables or features to include in a linear regression model. The main aim of model selection is to identify the most important and relevant variables to predict the response variable.\n",
    "\n",
    "Lasso and Ridge regularization methods work by adding a penalty term to the objective function of our linear model, which can help prevent overfitting by shrinking the coefficients towards zero. Lasso has the additional property of performing variable selection by driving some coefficients to exactly zero, effectively removing those variables from the model. This can be useful in identifying the most important predictor variables for our response variable."
   ]
  },
  {
   "cell_type": "code",
   "execution_count": 59,
   "id": "7dc7acec",
   "metadata": {},
   "outputs": [],
   "source": [
    "X=df[['site','sex','age','hdlngth','skullw','totlngth','taill','footlgth','earconch','eye','chest','belly']]\n",
    "Y=df['Pop']"
   ]
  },
  {
   "cell_type": "code",
   "execution_count": 60,
   "id": "c44d4dc0",
   "metadata": {},
   "outputs": [],
   "source": [
    "X_train,X_test,Y_train,Y_test=train_test_split(X,Y,test_size=0.25,random_state=42)"
   ]
  },
  {
   "cell_type": "code",
   "execution_count": 61,
   "id": "3b6b0cac",
   "metadata": {},
   "outputs": [
    {
     "data": {
      "text/plain": [
       "LinearRegression()"
      ]
     },
     "execution_count": 61,
     "metadata": {},
     "output_type": "execute_result"
    }
   ],
   "source": [
    "lin_reg = LinearRegression()\n",
    "lin_reg.fit(X_train, Y_train)"
   ]
  },
  {
   "cell_type": "code",
   "execution_count": 62,
   "id": "13119680",
   "metadata": {},
   "outputs": [],
   "source": [
    "y_pred = lin_reg.predict(X_test)"
   ]
  },
  {
   "cell_type": "code",
   "execution_count": 63,
   "id": "ddc16e8f",
   "metadata": {},
   "outputs": [],
   "source": [
    "mse = mean_squared_error(Y_test, y_pred)"
   ]
  },
  {
   "cell_type": "code",
   "execution_count": 64,
   "id": "8e901e2f",
   "metadata": {},
   "outputs": [],
   "source": [
    "rmse = np.sqrt(mse)"
   ]
  },
  {
   "cell_type": "code",
   "execution_count": 65,
   "id": "a7e4dbff",
   "metadata": {},
   "outputs": [
    {
     "name": "stdout",
     "output_type": "stream",
     "text": [
      "Linear Regression RMSE: 0.13021948842871592\n"
     ]
    }
   ],
   "source": [
    "print(\"Linear Regression RMSE:\", rmse)"
   ]
  },
  {
   "cell_type": "code",
   "execution_count": 66,
   "id": "b262e4b5",
   "metadata": {},
   "outputs": [
    {
     "data": {
      "text/plain": [
       "Lasso(alpha=0.1)"
      ]
     },
     "execution_count": 66,
     "metadata": {},
     "output_type": "execute_result"
    }
   ],
   "source": [
    "lasso_reg = Lasso(alpha=0.1)\n",
    "lasso_reg.fit(X_train, Y_train)"
   ]
  },
  {
   "cell_type": "code",
   "execution_count": 67,
   "id": "494278d7",
   "metadata": {},
   "outputs": [
    {
     "data": {
      "text/plain": [
       "Ridge(alpha=0.1)"
      ]
     },
     "execution_count": 67,
     "metadata": {},
     "output_type": "execute_result"
    }
   ],
   "source": [
    "ridge_reg = Ridge(alpha=0.1)\n",
    "ridge_reg.fit(X_train, Y_train)"
   ]
  },
  {
   "cell_type": "code",
   "execution_count": 68,
   "id": "c5d8e3f0",
   "metadata": {},
   "outputs": [],
   "source": [
    "y_pred_lasso = lasso_reg.predict(X_test)\n",
    "y_pred_ridge = ridge_reg.predict(X_test)"
   ]
  },
  {
   "cell_type": "code",
   "execution_count": 69,
   "id": "a83e7df4",
   "metadata": {},
   "outputs": [
    {
     "name": "stdout",
     "output_type": "stream",
     "text": [
      "Lasso RMSE: 0.13298649075759097\n"
     ]
    }
   ],
   "source": [
    "mse_lasso = mean_squared_error(Y_test, y_pred_lasso)\n",
    "rmse_lasso = np.sqrt(mse_lasso)\n",
    "print(\"Lasso RMSE:\", rmse_lasso)"
   ]
  },
  {
   "cell_type": "code",
   "execution_count": 70,
   "id": "f4f5fda7",
   "metadata": {},
   "outputs": [
    {
     "name": "stdout",
     "output_type": "stream",
     "text": [
      "Ridge RMSE: 0.1302069092435807\n"
     ]
    }
   ],
   "source": [
    "mse_ridge = mean_squared_error(Y_test, y_pred_ridge)\n",
    "rmse_ridge = np.sqrt(mse_ridge)\n",
    "print(\"Ridge RMSE:\", rmse_ridge)"
   ]
  },
  {
   "cell_type": "markdown",
   "id": "516e909f",
   "metadata": {},
   "source": [
    "## Forward Selection"
   ]
  },
  {
   "cell_type": "markdown",
   "id": "2e91c7be",
   "metadata": {},
   "source": [
    "Forward selection is a type of stepwise feature selection technique which begins with an empty model and adds in variables one by one. In each forward step, you add the one variable that gives the single best improvement to your model."
   ]
  },
  {
   "cell_type": "code",
   "execution_count": 71,
   "id": "7681b705",
   "metadata": {},
   "outputs": [],
   "source": [
    "X=df[['site','sex','age','hdlngth','skullw','totlngth','taill','footlgth','earconch','eye','chest','belly']]\n",
    "Y=df['Pop']"
   ]
  },
  {
   "cell_type": "code",
   "execution_count": 72,
   "id": "4c72fbbb",
   "metadata": {},
   "outputs": [],
   "source": [
    "X_train, X_test, Y_train, Y_test = train_test_split(X, Y, test_size=0.2, random_state=42)"
   ]
  },
  {
   "cell_type": "code",
   "execution_count": 73,
   "id": "67f5e0e1",
   "metadata": {},
   "outputs": [
    {
     "name": "stderr",
     "output_type": "stream",
     "text": [
      "[Parallel(n_jobs=1)]: Using backend SequentialBackend with 1 concurrent workers.\n",
      "[Parallel(n_jobs=1)]: Done   1 out of   1 | elapsed:    4.5s remaining:    0.0s\n",
      "[Parallel(n_jobs=1)]: Done   2 out of   2 | elapsed:    4.9s remaining:    0.0s\n",
      "[Parallel(n_jobs=1)]: Done  12 out of  12 | elapsed:    9.0s finished\n",
      "\n",
      "[2023-05-05 16:25:03] Features: 1/12 -- score: 1.0[Parallel(n_jobs=1)]: Using backend SequentialBackend with 1 concurrent workers.\n",
      "[Parallel(n_jobs=1)]: Done   1 out of   1 | elapsed:    0.3s remaining:    0.0s\n",
      "[Parallel(n_jobs=1)]: Done   2 out of   2 | elapsed:    0.8s remaining:    0.0s\n",
      "[Parallel(n_jobs=1)]: Done  11 out of  11 | elapsed:    5.0s finished\n",
      "\n",
      "[2023-05-05 16:25:08] Features: 2/12 -- score: 1.0[Parallel(n_jobs=1)]: Using backend SequentialBackend with 1 concurrent workers.\n",
      "[Parallel(n_jobs=1)]: Done   1 out of   1 | elapsed:    0.4s remaining:    0.0s\n",
      "[Parallel(n_jobs=1)]: Done   2 out of   2 | elapsed:    0.8s remaining:    0.0s\n",
      "[Parallel(n_jobs=1)]: Done  10 out of  10 | elapsed:    4.5s finished\n",
      "\n",
      "[2023-05-05 16:25:12] Features: 3/12 -- score: 1.0[Parallel(n_jobs=1)]: Using backend SequentialBackend with 1 concurrent workers.\n",
      "[Parallel(n_jobs=1)]: Done   1 out of   1 | elapsed:    0.4s remaining:    0.0s\n",
      "[Parallel(n_jobs=1)]: Done   2 out of   2 | elapsed:    0.8s remaining:    0.0s\n",
      "[Parallel(n_jobs=1)]: Done   9 out of   9 | elapsed:    4.1s finished\n",
      "\n",
      "[2023-05-05 16:25:17] Features: 4/12 -- score: 1.0[Parallel(n_jobs=1)]: Using backend SequentialBackend with 1 concurrent workers.\n",
      "[Parallel(n_jobs=1)]: Done   1 out of   1 | elapsed:    0.4s remaining:    0.0s\n",
      "[Parallel(n_jobs=1)]: Done   2 out of   2 | elapsed:    0.8s remaining:    0.0s\n",
      "[Parallel(n_jobs=1)]: Done   8 out of   8 | elapsed:    3.5s finished\n",
      "\n",
      "[2023-05-05 16:25:20] Features: 5/12 -- score: 1.0[Parallel(n_jobs=1)]: Using backend SequentialBackend with 1 concurrent workers.\n",
      "[Parallel(n_jobs=1)]: Done   1 out of   1 | elapsed:    0.4s remaining:    0.0s\n",
      "[Parallel(n_jobs=1)]: Done   2 out of   2 | elapsed:    0.8s remaining:    0.0s\n",
      "[Parallel(n_jobs=1)]: Done   7 out of   7 | elapsed:    3.1s finished\n",
      "\n",
      "[2023-05-05 16:25:23] Features: 6/12 -- score: 1.0[Parallel(n_jobs=1)]: Using backend SequentialBackend with 1 concurrent workers.\n",
      "[Parallel(n_jobs=1)]: Done   1 out of   1 | elapsed:    0.4s remaining:    0.0s\n",
      "[Parallel(n_jobs=1)]: Done   2 out of   2 | elapsed:    0.8s remaining:    0.0s\n",
      "[Parallel(n_jobs=1)]: Done   6 out of   6 | elapsed:    2.6s finished\n",
      "\n",
      "[2023-05-05 16:25:26] Features: 7/12 -- score: 1.0[Parallel(n_jobs=1)]: Using backend SequentialBackend with 1 concurrent workers.\n",
      "[Parallel(n_jobs=1)]: Done   1 out of   1 | elapsed:    0.4s remaining:    0.0s\n",
      "[Parallel(n_jobs=1)]: Done   2 out of   2 | elapsed:    0.8s remaining:    0.0s\n",
      "[Parallel(n_jobs=1)]: Done   5 out of   5 | elapsed:    2.2s finished\n",
      "\n",
      "[2023-05-05 16:25:29] Features: 8/12 -- score: 1.0[Parallel(n_jobs=1)]: Using backend SequentialBackend with 1 concurrent workers.\n",
      "[Parallel(n_jobs=1)]: Done   1 out of   1 | elapsed:    0.4s remaining:    0.0s\n",
      "[Parallel(n_jobs=1)]: Done   2 out of   2 | elapsed:    0.9s remaining:    0.0s\n",
      "[Parallel(n_jobs=1)]: Done   4 out of   4 | elapsed:    1.8s finished\n",
      "\n",
      "[2023-05-05 16:25:30] Features: 9/12 -- score: 1.0[Parallel(n_jobs=1)]: Using backend SequentialBackend with 1 concurrent workers.\n",
      "[Parallel(n_jobs=1)]: Done   1 out of   1 | elapsed:    0.3s remaining:    0.0s\n",
      "[Parallel(n_jobs=1)]: Done   2 out of   2 | elapsed:    0.8s remaining:    0.0s\n",
      "[Parallel(n_jobs=1)]: Done   3 out of   3 | elapsed:    1.3s finished\n",
      "\n",
      "[2023-05-05 16:25:32] Features: 10/12 -- score: 1.0[Parallel(n_jobs=1)]: Using backend SequentialBackend with 1 concurrent workers.\n",
      "[Parallel(n_jobs=1)]: Done   1 out of   1 | elapsed:    0.4s remaining:    0.0s\n",
      "[Parallel(n_jobs=1)]: Done   2 out of   2 | elapsed:    0.8s remaining:    0.0s\n",
      "[Parallel(n_jobs=1)]: Done   2 out of   2 | elapsed:    0.8s finished\n",
      "\n",
      "[2023-05-05 16:25:33] Features: 11/12 -- score: 1.0[Parallel(n_jobs=1)]: Using backend SequentialBackend with 1 concurrent workers.\n",
      "[Parallel(n_jobs=1)]: Done   1 out of   1 | elapsed:    0.5s remaining:    0.0s\n",
      "[Parallel(n_jobs=1)]: Done   1 out of   1 | elapsed:    0.5s finished\n",
      "\n",
      "[2023-05-05 16:25:33] Features: 12/12 -- score: 1.0"
     ]
    }
   ],
   "source": [
    "ffs = SFS(RFC(n_jobs=-1), k_features=(1,12), forward=True, floating=False, verbose=3, scoring='accuracy', cv=3).fit(X_train,Y_train)"
   ]
  },
  {
   "cell_type": "code",
   "execution_count": 74,
   "id": "ebbf8b36",
   "metadata": {},
   "outputs": [
    {
     "data": {
      "text/plain": [
       "(0,)"
      ]
     },
     "execution_count": 74,
     "metadata": {},
     "output_type": "execute_result"
    }
   ],
   "source": [
    "ffs.k_feature_idx_"
   ]
  },
  {
   "cell_type": "code",
   "execution_count": 75,
   "id": "b49e4b25",
   "metadata": {},
   "outputs": [
    {
     "data": {
      "text/plain": [
       "('site',)"
      ]
     },
     "execution_count": 75,
     "metadata": {},
     "output_type": "execute_result"
    }
   ],
   "source": [
    "ffs.k_feature_names_"
   ]
  },
  {
   "cell_type": "code",
   "execution_count": 76,
   "id": "4ab45247",
   "metadata": {},
   "outputs": [
    {
     "data": {
      "text/plain": [
       "1.0"
      ]
     },
     "execution_count": 76,
     "metadata": {},
     "output_type": "execute_result"
    }
   ],
   "source": [
    "ffs.k_score_"
   ]
  },
  {
   "cell_type": "markdown",
   "id": "8a8c4c0c",
   "metadata": {},
   "source": [
    "## Backward Selection"
   ]
  },
  {
   "cell_type": "markdown",
   "id": "364a6b48",
   "metadata": {},
   "source": [
    "backward elimination is totally opposite to forward. In that, you start with a model that includes every possible variable and eliminate the extraneous variables one by one"
   ]
  },
  {
   "cell_type": "code",
   "execution_count": 77,
   "id": "8c07a66c",
   "metadata": {},
   "outputs": [],
   "source": [
    "X=df[['site','sex','age','hdlngth','skullw','totlngth','taill','footlgth','earconch','eye','chest','belly']]\n",
    "Y=df['Pop']"
   ]
  },
  {
   "cell_type": "code",
   "execution_count": 78,
   "id": "aec28cb9",
   "metadata": {},
   "outputs": [],
   "source": [
    "X_train, X_test, Y_train, Y_test = train_test_split(X,Y,test_size=0.2,random_state=42)"
   ]
  },
  {
   "cell_type": "code",
   "execution_count": 79,
   "id": "11fb9347",
   "metadata": {},
   "outputs": [],
   "source": [
    "bfs = SFS(RFC(n_jobs=-1), k_features=(1,12), forward=False, floating=True, verbose=2, scoring='accuracy', cv=3)"
   ]
  },
  {
   "cell_type": "code",
   "execution_count": 80,
   "id": "d96945a4",
   "metadata": {},
   "outputs": [
    {
     "name": "stderr",
     "output_type": "stream",
     "text": [
      "[Parallel(n_jobs=1)]: Using backend SequentialBackend with 1 concurrent workers.\n",
      "[Parallel(n_jobs=1)]: Done   1 out of   1 | elapsed:    0.4s remaining:    0.0s\n",
      "[Parallel(n_jobs=1)]: Done  12 out of  12 | elapsed:    5.5s finished\n",
      "\n",
      "[2023-05-05 16:25:39] Features: 11/1 -- score: 1.0[Parallel(n_jobs=1)]: Using backend SequentialBackend with 1 concurrent workers.\n",
      "[Parallel(n_jobs=1)]: Done   1 out of   1 | elapsed:    0.4s remaining:    0.0s\n",
      "[Parallel(n_jobs=1)]: Done  11 out of  11 | elapsed:    4.9s finished\n",
      "\n",
      "[2023-05-05 16:25:45] Features: 10/1 -- score: 1.0[Parallel(n_jobs=1)]: Using backend SequentialBackend with 1 concurrent workers.\n",
      "[Parallel(n_jobs=1)]: Done   1 out of   1 | elapsed:    0.3s remaining:    0.0s\n",
      "[Parallel(n_jobs=1)]: Done  10 out of  10 | elapsed:    4.4s finished\n",
      "[Parallel(n_jobs=1)]: Using backend SequentialBackend with 1 concurrent workers.\n",
      "[Parallel(n_jobs=1)]: Done   1 out of   1 | elapsed:    0.4s remaining:    0.0s\n",
      "[Parallel(n_jobs=1)]: Done   2 out of   2 | elapsed:    0.8s finished\n",
      "\n",
      "[2023-05-05 16:25:50] Features: 9/1 -- score: 1.0[Parallel(n_jobs=1)]: Using backend SequentialBackend with 1 concurrent workers.\n",
      "[Parallel(n_jobs=1)]: Done   1 out of   1 | elapsed:    0.4s remaining:    0.0s\n",
      "[Parallel(n_jobs=1)]: Done   9 out of   9 | elapsed:    3.9s finished\n",
      "[Parallel(n_jobs=1)]: Using backend SequentialBackend with 1 concurrent workers.\n",
      "[Parallel(n_jobs=1)]: Done   1 out of   1 | elapsed:    0.4s remaining:    0.0s\n",
      "[Parallel(n_jobs=1)]: Done   3 out of   3 | elapsed:    1.3s finished\n",
      "\n",
      "[2023-05-05 16:25:55] Features: 8/1 -- score: 1.0[Parallel(n_jobs=1)]: Using backend SequentialBackend with 1 concurrent workers.\n",
      "[Parallel(n_jobs=1)]: Done   1 out of   1 | elapsed:    0.4s remaining:    0.0s\n",
      "[Parallel(n_jobs=1)]: Done   8 out of   8 | elapsed:    3.5s finished\n",
      "[Parallel(n_jobs=1)]: Using backend SequentialBackend with 1 concurrent workers.\n",
      "[Parallel(n_jobs=1)]: Done   1 out of   1 | elapsed:    0.4s remaining:    0.0s\n",
      "[Parallel(n_jobs=1)]: Done   4 out of   4 | elapsed:    1.8s finished\n",
      "\n",
      "[2023-05-05 16:26:01] Features: 7/1 -- score: 1.0[Parallel(n_jobs=1)]: Using backend SequentialBackend with 1 concurrent workers.\n",
      "[Parallel(n_jobs=1)]: Done   1 out of   1 | elapsed:    0.4s remaining:    0.0s\n",
      "[Parallel(n_jobs=1)]: Done   7 out of   7 | elapsed:    3.2s finished\n",
      "[Parallel(n_jobs=1)]: Using backend SequentialBackend with 1 concurrent workers.\n",
      "[Parallel(n_jobs=1)]: Done   1 out of   1 | elapsed:    0.3s remaining:    0.0s\n",
      "[Parallel(n_jobs=1)]: Done   5 out of   5 | elapsed:    2.1s finished\n",
      "\n",
      "[2023-05-05 16:26:06] Features: 6/1 -- score: 1.0[Parallel(n_jobs=1)]: Using backend SequentialBackend with 1 concurrent workers.\n",
      "[Parallel(n_jobs=1)]: Done   1 out of   1 | elapsed:    0.4s remaining:    0.0s\n",
      "[Parallel(n_jobs=1)]: Done   6 out of   6 | elapsed:    2.6s finished\n",
      "[Parallel(n_jobs=1)]: Using backend SequentialBackend with 1 concurrent workers.\n",
      "[Parallel(n_jobs=1)]: Done   1 out of   1 | elapsed:    0.4s remaining:    0.0s\n",
      "[Parallel(n_jobs=1)]: Done   6 out of   6 | elapsed:    2.5s finished\n",
      "\n",
      "[2023-05-05 16:26:12] Features: 5/1 -- score: 1.0[Parallel(n_jobs=1)]: Using backend SequentialBackend with 1 concurrent workers.\n",
      "[Parallel(n_jobs=1)]: Done   1 out of   1 | elapsed:    0.4s remaining:    0.0s\n",
      "[Parallel(n_jobs=1)]: Done   5 out of   5 | elapsed:    2.2s finished\n",
      "[Parallel(n_jobs=1)]: Using backend SequentialBackend with 1 concurrent workers.\n",
      "[Parallel(n_jobs=1)]: Done   1 out of   1 | elapsed:    0.4s remaining:    0.0s\n",
      "[Parallel(n_jobs=1)]: Done   7 out of   7 | elapsed:    3.1s finished\n",
      "\n",
      "[2023-05-05 16:26:17] Features: 4/1 -- score: 1.0[Parallel(n_jobs=1)]: Using backend SequentialBackend with 1 concurrent workers.\n",
      "[Parallel(n_jobs=1)]: Done   1 out of   1 | elapsed:    0.4s remaining:    0.0s\n",
      "[Parallel(n_jobs=1)]: Done   4 out of   4 | elapsed:    1.8s finished\n",
      "[Parallel(n_jobs=1)]: Using backend SequentialBackend with 1 concurrent workers.\n",
      "[Parallel(n_jobs=1)]: Done   1 out of   1 | elapsed:    0.4s remaining:    0.0s\n",
      "[Parallel(n_jobs=1)]: Done   8 out of   8 | elapsed:    3.5s finished\n",
      "\n",
      "[2023-05-05 16:26:23] Features: 3/1 -- score: 1.0[Parallel(n_jobs=1)]: Using backend SequentialBackend with 1 concurrent workers.\n",
      "[Parallel(n_jobs=1)]: Done   1 out of   1 | elapsed:    0.3s remaining:    0.0s\n",
      "[Parallel(n_jobs=1)]: Done   3 out of   3 | elapsed:    1.2s finished\n",
      "[Parallel(n_jobs=1)]: Using backend SequentialBackend with 1 concurrent workers.\n",
      "[Parallel(n_jobs=1)]: Done   1 out of   1 | elapsed:    0.4s remaining:    0.0s\n",
      "[Parallel(n_jobs=1)]: Done   9 out of   9 | elapsed:    4.1s finished\n",
      "\n",
      "[2023-05-05 16:26:28] Features: 2/1 -- score: 1.0[Parallel(n_jobs=1)]: Using backend SequentialBackend with 1 concurrent workers.\n",
      "[Parallel(n_jobs=1)]: Done   1 out of   1 | elapsed:    0.3s remaining:    0.0s\n",
      "[Parallel(n_jobs=1)]: Done   2 out of   2 | elapsed:    0.8s finished\n",
      "[Parallel(n_jobs=1)]: Using backend SequentialBackend with 1 concurrent workers.\n",
      "[Parallel(n_jobs=1)]: Done   1 out of   1 | elapsed:    0.4s remaining:    0.0s\n",
      "[Parallel(n_jobs=1)]: Done  10 out of  10 | elapsed:    4.4s finished\n",
      "\n",
      "[2023-05-05 16:26:34] Features: 1/1 -- score: 1.0"
     ]
    },
    {
     "data": {
      "text/plain": [
       "SequentialFeatureSelector(cv=3, estimator=RandomForestClassifier(n_jobs=-1),\n",
       "                          floating=True, forward=False, k_features=(1, 12),\n",
       "                          scoring='accuracy', verbose=2)"
      ]
     },
     "execution_count": 80,
     "metadata": {},
     "output_type": "execute_result"
    }
   ],
   "source": [
    "bfs.fit(X_train, Y_train)"
   ]
  },
  {
   "cell_type": "code",
   "execution_count": 81,
   "id": "8627616b",
   "metadata": {},
   "outputs": [
    {
     "data": {
      "text/plain": [
       "(0, 1, 2, 3, 4, 5, 6, 7, 8, 9, 10, 11)"
      ]
     },
     "execution_count": 81,
     "metadata": {},
     "output_type": "execute_result"
    }
   ],
   "source": [
    "bfs.k_feature_idx_"
   ]
  },
  {
   "cell_type": "code",
   "execution_count": 82,
   "id": "7c40b9d1",
   "metadata": {},
   "outputs": [
    {
     "data": {
      "text/plain": [
       "('site',\n",
       " 'sex',\n",
       " 'age',\n",
       " 'hdlngth',\n",
       " 'skullw',\n",
       " 'totlngth',\n",
       " 'taill',\n",
       " 'footlgth',\n",
       " 'earconch',\n",
       " 'eye',\n",
       " 'chest',\n",
       " 'belly')"
      ]
     },
     "execution_count": 82,
     "metadata": {},
     "output_type": "execute_result"
    }
   ],
   "source": [
    "bfs.k_feature_names_"
   ]
  },
  {
   "cell_type": "code",
   "execution_count": 83,
   "id": "e1d79c57",
   "metadata": {},
   "outputs": [
    {
     "data": {
      "text/plain": [
       "1.0"
      ]
     },
     "execution_count": 83,
     "metadata": {},
     "output_type": "execute_result"
    }
   ],
   "source": [
    "bfs.k_score_"
   ]
  },
  {
   "cell_type": "markdown",
   "id": "6e4021a0",
   "metadata": {},
   "source": [
    "## L1 Regularization"
   ]
  },
  {
   "cell_type": "markdown",
   "id": "53f3ea2c",
   "metadata": {},
   "source": [
    "L1 and L2 regularization are techniques to prevent overfitting by adding a penalty term to the cost function. L1 regularization uses the absolute value of the weights. L1 regularization tends to estimate the median of the data. L1 regularization also results in a sparse solution, meaning some weights are zero, which can be useful for feature selection."
   ]
  },
  {
   "cell_type": "code",
   "execution_count": 84,
   "id": "9ea01f47",
   "metadata": {},
   "outputs": [],
   "source": [
    "X=df[['site','sex','age','hdlngth','skullw','totlngth','taill','footlgth','earconch','eye','chest','belly']]\n",
    "Y=df['Pop']"
   ]
  },
  {
   "cell_type": "code",
   "execution_count": 85,
   "id": "6f07c008",
   "metadata": {},
   "outputs": [],
   "source": [
    "X_train, X_test, Y_train, Y_test = train_test_split(X, Y, test_size=0.2, random_state=42)"
   ]
  },
  {
   "cell_type": "code",
   "execution_count": 86,
   "id": "c00a0945",
   "metadata": {},
   "outputs": [
    {
     "name": "stderr",
     "output_type": "stream",
     "text": [
      "C:\\Users\\Haneesh\\anaconda3\\lib\\site-packages\\sklearn\\linear_model\\_sag.py:352: ConvergenceWarning: The max_iter was reached which means the coef_ did not converge\n",
      "  warnings.warn(\n"
     ]
    },
    {
     "data": {
      "text/plain": [
       "LogisticRegression(C=0.1, max_iter=1000, penalty='l1', solver='saga')"
      ]
     },
     "execution_count": 86,
     "metadata": {},
     "output_type": "execute_result"
    }
   ],
   "source": [
    "clf = LogisticRegression(penalty='l1', solver='saga', C=0.1, max_iter=1000)\n",
    "clf.fit(X_train, Y_train)"
   ]
  },
  {
   "cell_type": "code",
   "execution_count": 87,
   "id": "be5835e7",
   "metadata": {},
   "outputs": [
    {
     "name": "stdout",
     "output_type": "stream",
     "text": [
      "Training accuracy: 1.0\n",
      "Testing accuracy: 1.0\n"
     ]
    }
   ],
   "source": [
    "print('Training accuracy:', clf.score(X_train, Y_train))\n",
    "print('Testing accuracy:', clf.score(X_test, Y_test))"
   ]
  },
  {
   "cell_type": "markdown",
   "id": "177aa4e8",
   "metadata": {},
   "source": [
    "## PCA(Principal Component Analysis)"
   ]
  },
  {
   "cell_type": "markdown",
   "id": "020cda2e",
   "metadata": {},
   "source": [
    "PCA (Principal Component Analysis) is a statistical technique used for data reduction without losing its properties. It is a popular technique for analyzing large datasets containing a high number of dimensions/features per observation. PCA enables us to better generalize machine learning models by reducing the dimensionality of the data. The technique involves transforming a large set of variables into a smaller one that still contains most of the information in the large set"
   ]
  },
  {
   "cell_type": "code",
   "execution_count": 88,
   "id": "59ed1c25",
   "metadata": {},
   "outputs": [
    {
     "data": {
      "text/plain": [
       "StandardScaler()"
      ]
     },
     "execution_count": 88,
     "metadata": {},
     "output_type": "execute_result"
    }
   ],
   "source": [
    "scaler = StandardScaler()\n",
    "scaler.fit(df)"
   ]
  },
  {
   "cell_type": "code",
   "execution_count": 89,
   "id": "8143e665",
   "metadata": {},
   "outputs": [
    {
     "data": {
      "text/plain": [
       "array([[-1.7014694 , -1.13507515,  0.84372057, ...,  0.46533378,\n",
       "         1.2384409 , -1.16139451],\n",
       "       [-1.66859862, -1.13507515, -1.18522652, ...,  0.71400422,\n",
       "         0.13314608, -1.16139451],\n",
       "       [-1.63572785, -1.13507515, -1.18522652, ...,  1.46001552,\n",
       "         0.50157768, -1.16139451],\n",
       "       ...,\n",
       "       [ 1.61847883,  1.41253797, -1.18522652, ..., -1.02668882,\n",
       "        -0.97214875,  0.86103386],\n",
       "       [ 1.6513496 ,  1.41253797,  0.84372057, ..., -1.02668882,\n",
       "        -1.34058036,  0.86103386],\n",
       "       [ 1.68422038,  1.41253797, -1.18522652, ...,  0.71400422,\n",
       "         0.31736188,  0.86103386]])"
      ]
     },
     "execution_count": 89,
     "metadata": {},
     "output_type": "execute_result"
    }
   ],
   "source": [
    "scaled_data = scaler.transform(df)\n",
    "scaled_data"
   ]
  },
  {
   "cell_type": "code",
   "execution_count": 90,
   "id": "191916d1",
   "metadata": {},
   "outputs": [
    {
     "data": {
      "text/plain": [
       "PCA(n_components=2)"
      ]
     },
     "execution_count": 90,
     "metadata": {},
     "output_type": "execute_result"
    }
   ],
   "source": [
    "pca=PCA(n_components=2)\n",
    "pca.fit(scaled_data)"
   ]
  },
  {
   "cell_type": "code",
   "execution_count": 91,
   "id": "bdad227f",
   "metadata": {},
   "outputs": [],
   "source": [
    "x_pca=pca.transform(scaled_data)"
   ]
  },
  {
   "cell_type": "code",
   "execution_count": 92,
   "id": "1a888a16",
   "metadata": {},
   "outputs": [
    {
     "data": {
      "text/plain": [
       "(101, 14)"
      ]
     },
     "execution_count": 92,
     "metadata": {},
     "output_type": "execute_result"
    }
   ],
   "source": [
    "scaled_data.shape"
   ]
  },
  {
   "cell_type": "code",
   "execution_count": 93,
   "id": "12210e9a",
   "metadata": {},
   "outputs": [
    {
     "data": {
      "text/plain": [
       "(101, 2)"
      ]
     },
     "execution_count": 93,
     "metadata": {},
     "output_type": "execute_result"
    }
   ],
   "source": [
    "x_pca.shape"
   ]
  },
  {
   "cell_type": "code",
   "execution_count": 94,
   "id": "709ef97a",
   "metadata": {},
   "outputs": [
    {
     "data": {
      "text/plain": [
       "array([[-3.63278588,  0.0099478 ],\n",
       "       [-2.95309913,  0.39990247],\n",
       "       [-3.96692186, -0.88118687],\n",
       "       [-3.3003262 ,  0.31377298],\n",
       "       [-2.08176926,  1.88492202],\n",
       "       [-2.65272711,  1.93205589],\n",
       "       [-2.72747346,  0.60313216],\n",
       "       [-3.29915791,  0.4422954 ],\n",
       "       [-3.09026049,  0.30685496],\n",
       "       [-2.40298117,  1.05399269],\n",
       "       [-3.71490079, -0.39089394],\n",
       "       [-2.64673556,  0.78138824],\n",
       "       [-2.19955652,  0.1943574 ],\n",
       "       [-2.72138073,  0.8962876 ],\n",
       "       [-2.10390321,  1.03205008],\n",
       "       [-1.79399937,  1.97308396],\n",
       "       [-3.1073723 ,  0.21715443],\n",
       "       [-2.3914162 ,  1.48743535],\n",
       "       [-2.73564655,  1.38173011],\n",
       "       [-2.6610097 ,  0.36523394],\n",
       "       [-4.27520827, -1.0796342 ],\n",
       "       [-2.8363833 , -0.87572591],\n",
       "       [-2.54793799,  1.05198494],\n",
       "       [-1.86244937,  2.08473044],\n",
       "       [-3.02827352, -0.08781084],\n",
       "       [-3.70067058, -0.33988469],\n",
       "       [-0.10386415,  3.53511939],\n",
       "       [-1.80533556,  1.75730305],\n",
       "       [-1.53076542,  2.44318143],\n",
       "       [-0.79848961,  2.93984153],\n",
       "       [-1.30337008,  1.26224027],\n",
       "       [-2.79829032, -0.02829111],\n",
       "       [-0.65049241,  2.02757525],\n",
       "       [-0.6709389 ,  2.49257241],\n",
       "       [-2.18912941,  0.5352918 ],\n",
       "       [-2.18196473,  0.47946935],\n",
       "       [-0.74680791,  2.9100448 ],\n",
       "       [-0.48790281,  1.34785611],\n",
       "       [ 1.40976423,  5.84103774],\n",
       "       [-0.84276842,  2.52988449],\n",
       "       [ 1.07674777,  3.94865579],\n",
       "       [-0.69010959,  3.24768112],\n",
       "       [-0.73033027,  2.64922981],\n",
       "       [ 1.25218514,  0.21823552],\n",
       "       [-0.64299961, -1.97786079],\n",
       "       [-0.40375642, -1.63332301],\n",
       "       [ 0.02524945, -0.84421989],\n",
       "       [-0.27477952, -2.10681792],\n",
       "       [-0.69820972, -3.07844491],\n",
       "       [ 0.10125956, -1.12373817],\n",
       "       [-1.53997603, -4.72622282],\n",
       "       [-1.75718039, -3.76236244],\n",
       "       [-0.59896608, -2.52995846],\n",
       "       [-1.00736456, -3.2043425 ],\n",
       "       [-0.38878194, -2.42130323],\n",
       "       [-1.96159097, -4.12175389],\n",
       "       [ 1.47885513, -0.03752053],\n",
       "       [ 1.16910874, -1.51216168],\n",
       "       [ 1.27962819, -1.5171573 ],\n",
       "       [ 1.46720733, -0.30288802],\n",
       "       [ 1.0445897 , -1.73104428],\n",
       "       [ 0.19577262, -1.95235763],\n",
       "       [ 1.64730788, -0.3188855 ],\n",
       "       [ 1.56014009, -0.81482901],\n",
       "       [ 1.31682552, -1.62616608],\n",
       "       [ 0.58218202, -1.74408306],\n",
       "       [ 1.1262205 , -0.71648201],\n",
       "       [ 1.01876778, -2.25479607],\n",
       "       [ 3.70134214,  1.99140338],\n",
       "       [ 3.71875605,  2.1664783 ],\n",
       "       [ 2.55004724,  0.34303243],\n",
       "       [ 1.0170939 , -2.07598568],\n",
       "       [ 1.42417131, -2.42093114],\n",
       "       [ 2.0332897 , -1.22152615],\n",
       "       [ 4.3164281 ,  2.50795232],\n",
       "       [ 4.5795504 ,  2.27869532],\n",
       "       [ 3.72346779,  1.04163151],\n",
       "       [ 1.92322508, -1.6429053 ],\n",
       "       [ 3.176993  ,  0.54767337],\n",
       "       [ 3.33534721,  1.23009453],\n",
       "       [ 3.48861704,  0.73125917],\n",
       "       [ 2.03295807, -1.38673451],\n",
       "       [ 3.11805537,  0.35322594],\n",
       "       [ 0.30727205, -3.22962629],\n",
       "       [ 2.25731593, -0.76378582],\n",
       "       [ 1.32720568, -1.18420124],\n",
       "       [ 2.19516422, -0.50117022],\n",
       "       [ 1.32750152, -1.76859022],\n",
       "       [ 2.43189391,  0.14267301],\n",
       "       [ 3.6382126 ,  0.85021403],\n",
       "       [ 1.5718757 , -1.26929329],\n",
       "       [ 2.17820238, -0.97774368],\n",
       "       [ 2.20267325, -0.47815426],\n",
       "       [ 2.99446616, -0.04687257],\n",
       "       [ 1.22878815, -2.03233998],\n",
       "       [ 1.87017804, -1.35010955],\n",
       "       [ 3.72090059,  1.3425358 ],\n",
       "       [ 3.19783997,  0.34737773],\n",
       "       [ 2.52137253, -0.29566034],\n",
       "       [ 3.24556808,  0.12247243],\n",
       "       [ 1.13092647, -2.18647499]])"
      ]
     },
     "execution_count": 94,
     "metadata": {},
     "output_type": "execute_result"
    }
   ],
   "source": [
    "x_pca"
   ]
  },
  {
   "cell_type": "code",
   "execution_count": 95,
   "id": "fdcbc594",
   "metadata": {},
   "outputs": [
    {
     "data": {
      "text/plain": [
       "Text(0, 0.5, 'Second principle component')"
      ]
     },
     "execution_count": 95,
     "metadata": {},
     "output_type": "execute_result"
    },
    {
     "data": {
      "image/png": "[encoded data removed]",
      "text/plain": [
       "<Figure size 800x600 with 1 Axes>"
      ]
     },
     "metadata": {},
     "output_type": "display_data"
    }
   ],
   "source": [
    "plot.figure(figsize=(8,6))\n",
    "plot.scatter(x_pca[:,0],x_pca[:,1],c=df['Pop'])\n",
    "plot.xlabel('First principle component')\n",
    "plot.ylabel('Second principle component')"
   ]
  },
  {
   "cell_type": "markdown",
   "id": "99b1958a",
   "metadata": {},
   "source": [
    "## Recursive Feature Selection"
   ]
  },
  {
   "cell_type": "markdown",
   "id": "2c8e608f",
   "metadata": {},
   "source": [
    "Recursive Feature Elimination, or RFE for short, is a popular feature selection algorithm. RFE is popular because it is easy to configure and use and because it is effective at selecting those features (columns) in a training dataset that are more or most relevant in predicting the target variable."
   ]
  },
  {
   "cell_type": "code",
   "execution_count": 96,
   "id": "7ab96af5",
   "metadata": {},
   "outputs": [],
   "source": [
    "X=df[['site','sex','age','hdlngth','skullw','totlngth','taill','footlgth','earconch','eye','chest','belly']]\n",
    "Y=df['Pop']"
   ]
  },
  {
   "cell_type": "code",
   "execution_count": 97,
   "id": "88b76896",
   "metadata": {},
   "outputs": [],
   "source": [
    "X_train, X_test, Y_train, Y_test = train_test_split(X, Y, test_size=0.2, random_state=42)"
   ]
  },
  {
   "cell_type": "code",
   "execution_count": 98,
   "id": "f27e1ddc",
   "metadata": {},
   "outputs": [],
   "source": [
    "lr = LinearRegression()"
   ]
  },
  {
   "cell_type": "code",
   "execution_count": 99,
   "id": "fc5edebc",
   "metadata": {},
   "outputs": [],
   "source": [
    "selector = RFE(lr, n_features_to_select=3, step=1)\n",
    "selector = selector.fit(X_train, Y_train)"
   ]
  },
  {
   "cell_type": "code",
   "execution_count": 100,
   "id": "af1f7659",
   "metadata": {},
   "outputs": [
    {
     "data": {
      "text/plain": [
       "12"
      ]
     },
     "execution_count": 100,
     "metadata": {},
     "output_type": "execute_result"
    }
   ],
   "source": [
    "X.shape[1]"
   ]
  },
  {
   "cell_type": "code",
   "execution_count": 101,
   "id": "05a1aec7",
   "metadata": {},
   "outputs": [
    {
     "data": {
      "text/plain": [
       "Index(['site', 'taill', 'earconch'], dtype='object')"
      ]
     },
     "execution_count": 101,
     "metadata": {},
     "output_type": "execute_result"
    }
   ],
   "source": [
    "selected_features = X.columns[selector.support_]\n",
    "selected_features"
   ]
  },
  {
   "cell_type": "code",
   "execution_count": 102,
   "id": "dd48d00d",
   "metadata": {},
   "outputs": [
    {
     "data": {
      "text/plain": [
       "LinearRegression()"
      ]
     },
     "execution_count": 102,
     "metadata": {},
     "output_type": "execute_result"
    }
   ],
   "source": [
    "lr.fit(X_train[selected_features], Y_train)"
   ]
  },
  {
   "cell_type": "code",
   "execution_count": 103,
   "id": "24c0a544",
   "metadata": {},
   "outputs": [],
   "source": [
    "y_pred = lr.predict(X_test[selected_features])"
   ]
  },
  {
   "cell_type": "code",
   "execution_count": 104,
   "id": "0b373c8d",
   "metadata": {},
   "outputs": [
    {
     "data": {
      "text/plain": [
       "0.8964557631416399"
      ]
     },
     "execution_count": 104,
     "metadata": {},
     "output_type": "execute_result"
    }
   ],
   "source": [
    "R2 = r2_score(Y_test, y_pred)\n",
    "R2"
   ]
  },
  {
   "cell_type": "markdown",
   "id": "d39428ea",
   "metadata": {},
   "source": [
    "## Moving Beyond Linearity"
   ]
  },
  {
   "cell_type": "markdown",
   "id": "7fadd8db",
   "metadata": {},
   "source": [
    "nonlinear regression is a form of regression analysis in which observational data are modeled by a function which is a nonlinear combination of the model parameters and depends on one or more independent variables. The data are fitted by a method of successive approximations."
   ]
  },
  {
   "cell_type": "code",
   "execution_count": 105,
   "id": "6fef260f",
   "metadata": {},
   "outputs": [],
   "source": [
    "X=df[['site','sex','age','hdlngth','skullw','totlngth','taill','footlgth','earconch','eye','chest','belly']]\n",
    "Y=df['Pop']"
   ]
  },
  {
   "cell_type": "code",
   "execution_count": 106,
   "id": "ef2219b8",
   "metadata": {},
   "outputs": [],
   "source": [
    "X_train, X_test, Y_train, Y_test = train_test_split(X, Y, test_size=0.2, random_state=42)"
   ]
  },
  {
   "cell_type": "code",
   "execution_count": 107,
   "id": "b3c95783",
   "metadata": {},
   "outputs": [
    {
     "name": "stdout",
     "output_type": "stream",
     "text": [
      "R-squared for degree2: 0.024992102850834086\n",
      "R-squared for degree3: 0.5644619092409253\n",
      "R-squared for degree4: 0.5625941013275446\n"
     ]
    }
   ],
   "source": [
    "degree = [2,3,4]\n",
    "for i in degree:\n",
    "    poly = PolynomialFeatures(degree=int(i))\n",
    "    X_poly_train = poly.fit_transform(X_train)\n",
    "    X_poly_test = poly.transform(X_test)\n",
    "    lin_reg = LinearRegression()\n",
    "    lin_reg.fit(X_poly_train,Y_train)\n",
    "    y_pred = lin_reg.predict(X_poly_test)\n",
    "    r_squared = r2_score(Y_test,y_pred)\n",
    "    print('R-squared for degree'+str(i)+':'+' '+str(r_squared))"
   ]
  },
  {
   "cell_type": "markdown",
   "id": "1019b796",
   "metadata": {},
   "source": [
    "## Logistic Regression"
   ]
  },
  {
   "cell_type": "markdown",
   "id": "44e81808",
   "metadata": {},
   "source": [
    "Logistic regression is a statistical technique used for modeling the relationship between a binary response variable and one or more predictor variables. The aim of logistic regression is to predict the binary outcome (e.g., 0 or 1, yes or no) based on the values of the predictor variables.It can be used to predict the likelihood of an event happening or not happening based on the values of predictor variables, such as predicting the likelihood of a patient developing a disease or predicting the likelihood of a customer buying a product."
   ]
  },
  {
   "cell_type": "code",
   "execution_count": 108,
   "id": "22cdc2d1",
   "metadata": {},
   "outputs": [],
   "source": [
    "X=df[['site', 'taill']]\n",
    "Y=df['Pop']"
   ]
  },
  {
   "cell_type": "code",
   "execution_count": 109,
   "id": "de1bd519",
   "metadata": {},
   "outputs": [],
   "source": [
    "X_train, X_test, Y_train, Y_test = train_test_split(X, Y, test_size=0.2, random_state=42)"
   ]
  },
  {
   "cell_type": "code",
   "execution_count": 110,
   "id": "c403842c",
   "metadata": {},
   "outputs": [
    {
     "data": {
      "text/plain": [
       "LogisticRegression(max_iter=1000)"
      ]
     },
     "execution_count": 110,
     "metadata": {},
     "output_type": "execute_result"
    }
   ],
   "source": [
    "model = LogisticRegression(max_iter=1000)\n",
    "model.fit(X_train, Y_train)"
   ]
  },
  {
   "cell_type": "code",
   "execution_count": 111,
   "id": "ab103128",
   "metadata": {},
   "outputs": [],
   "source": [
    "y_pred = model.predict(X_test)"
   ]
  },
  {
   "cell_type": "code",
   "execution_count": 112,
   "id": "abe9f09f",
   "metadata": {},
   "outputs": [
    {
     "data": {
      "text/plain": [
       "0.9523809523809523"
      ]
     },
     "execution_count": 112,
     "metadata": {},
     "output_type": "execute_result"
    }
   ],
   "source": [
    "accuracy = accuracy_score(Y_test, y_pred)\n",
    "accuracy"
   ]
  },
  {
   "cell_type": "code",
   "execution_count": 113,
   "id": "88de70a8",
   "metadata": {},
   "outputs": [
    {
     "data": {
      "text/plain": [
       "0.9523809523809523"
      ]
     },
     "execution_count": 113,
     "metadata": {},
     "output_type": "execute_result"
    }
   ],
   "source": [
    "f1 = f1_score(Y_test, y_pred)\n",
    "f1"
   ]
  },
  {
   "cell_type": "code",
   "execution_count": 114,
   "id": "82b74bac",
   "metadata": {},
   "outputs": [
    {
     "data": {
      "image/png": "[encoded data removed]",
      "text/plain": [
       "<Figure size 640x480 with 1 Axes>"
      ]
     },
     "metadata": {},
     "output_type": "display_data"
    }
   ],
   "source": [
    "fig = plot.figure()\n",
    "ax = fig.add_subplot(111, projection='3d')\n",
    "ax.scatter(X_test['site'], X_test['taill'], Y_test, c=Y_test)\n",
    "\n",
    "ax.set_xlabel('site')\n",
    "ax.set_ylabel('taill')\n",
    "ax.set_zlabel('Pop')\n",
    "\n",
    "plot.show()"
   ]
  },
  {
   "cell_type": "markdown",
   "id": "6f07f3dc",
   "metadata": {},
   "source": [
    "## Conclusion"
   ]
  },
  {
   "cell_type": "markdown",
   "id": "856664ee",
   "metadata": {},
   "source": [
    "We have effectively applied statistical techniques such as non-parametric testing and categorical data analysis to determine the relationship between the numeric input columns and output categorical columns, and examined the relationship between the input and output categorical variables using the chi-squared test of independence.\n",
    "\n",
    "We have then utilized feature selection techniques and the logistic regression model to choose the best predictive features and fit the model to predict the possum population.\n",
    "\n",
    "Finally, when the model fit was evaluated using the test set, you have achieved an accuracy of 95.2%. This indicates that the model is capable of accurately predicting the possum population using the selected features."
   ]
  },
  {
   "cell_type": "code",
   "execution_count": null,
   "id": "4d45378d",
   "metadata": {},
   "outputs": [],
   "source": []
  }
 ],
 "metadata": {
  "kernelspec": {
   "display_name": "Python 3 (ipykernel)",
   "language": "python",
   "name": "python3"
  },
  "language_info": {
   "codemirror_mode": {
    "name": "ipython",
    "version": 3
   },
   "file_extension": ".py",
   "mimetype": "text/x-python",
   "name": "python",
   "nbconvert_exporter": "python",
   "pygments_lexer": "ipython3",
   "version": "3.9.13"
  }
 },
 "nbformat": 4,
 "nbformat_minor": 5
}
